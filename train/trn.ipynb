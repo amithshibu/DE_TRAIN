{
 "cells": [
  {
   "cell_type": "code",
   "execution_count": 1,
   "metadata": {},
   "outputs": [
    {
     "name": "stdout",
     "output_type": "stream",
     "text": [
      "[1, 2, 'guewg']\n",
      "{'1': '2', '3': '6'}\n",
      "2\n",
      "dict_items([('1', '2'), ('3', '9')])\n",
      "{'1': '2', '3': '9'}\n"
     ]
    }
   ],
   "source": [
    "list1=[1,2,'guewg']\n",
    "print(list1)\n",
    "#dictionary\n",
    "\n",
    "\n",
    "dic1={'1':'2','3':'6'}\n",
    "print(dic1)\n",
    "\n",
    "g=dic1.get('1')\n",
    "\n",
    "\n",
    "print(g)\n",
    "dic1['3']='9'\n",
    "print(dic1.items())\n",
    "print(dic1)\n"
   ]
  },
  {
   "cell_type": "code",
   "execution_count": null,
   "metadata": {},
   "outputs": [],
   "source": []
  }
 ],
 "metadata": {
  "kernelspec": {
   "display_name": "Python 3",
   "language": "python",
   "name": "python3"
  },
  "language_info": {
   "codemirror_mode": {
    "name": "ipython",
    "version": 3
   },
   "file_extension": ".py",
   "mimetype": "text/x-python",
   "name": "python",
   "nbconvert_exporter": "python",
   "pygments_lexer": "ipython3",
   "version": "3.12.4"
  }
 },
 "nbformat": 4,
 "nbformat_minor": 2
}
